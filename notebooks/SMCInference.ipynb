{
 "cells": [
  {
   "cell_type": "markdown",
   "metadata": {},
   "source": [
    "# Sequential Monte Carlo Inference of Evolutionary Parameters"
   ]
  },
  {
   "cell_type": "code",
   "execution_count": 1,
   "metadata": {},
   "outputs": [
    {
     "name": "stderr",
     "output_type": "stream",
     "text": [
      "┌ Info: Precompiling EvolutionaryModels [106980f1-6f33-4ebb-86c7-e0f0a7201877]\n",
      "└ @ Base loading.jl:1423\n",
      "WARNING: Method definition cost(Any) in module EvolutionaryModels at /Users/pechuanj/Documents/Workstation/PechuanLab/EvolutionaryModels/src/InferenceHelpers.jl:13 overwritten at /Users/pechuanj/Documents/Workstation/PechuanLab/EvolutionaryModels/src/InferenceHelpers.jl:21.\n",
      "  ** incremental compilation may be fatally broken for this module **\n",
      "\n",
      "WARNING: Method definition cost(Any) in module EvolutionaryModels at /Users/pechuanj/Documents/Workstation/PechuanLab/EvolutionaryModels/src/InferenceHelpers.jl:21 overwritten at /Users/pechuanj/Documents/Workstation/PechuanLab/EvolutionaryModels/src/InferenceHelpers.jl:39.\n",
      "  ** incremental compilation may be fatally broken for this module **\n",
      "\n",
      "WARNING: Method definition cost(Any) in module EvolutionaryModels at /Users/pechuanj/Documents/Workstation/PechuanLab/EvolutionaryModels/src/InferenceHelpers.jl:39 overwritten at /Users/pechuanj/Documents/Workstation/PechuanLab/EvolutionaryModels/src/InferenceHelpers.jl:47.\n",
      "  ** incremental compilation may be fatally broken for this module **\n",
      "\n",
      "WARNING: Method definition CulturePasss(EvolutionaryModels.Population, Any, Any) in module EvolutionaryModels at /Users/pechuanj/Documents/Workstation/PechuanLab/EvolutionaryModels/src/CurtisBarcodeModel.jl:171 overwritten at /Users/pechuanj/Documents/Workstation/PechuanLab/EvolutionaryModels/src/CurtisBarcodeModel.jl:286.\n",
      "  ** incremental compilation may be fatally broken for this module **\n",
      "\n",
      "WARNING: Method definition CulturePasss(EvolutionaryModels.Population, Any, Any) in module EvolutionaryModels at /Users/pechuanj/Documents/Workstation/PechuanLab/EvolutionaryModels/src/CurtisBarcodeModel.jl:286 overwritten at /Users/pechuanj/Documents/Workstation/PechuanLab/EvolutionaryModels/src/CurtisBarcodeModel.jl:313.\n",
      "  ** incremental compilation may be fatally broken for this module **\n",
      "\n",
      "WARNING: Method definition SimPop(Any, Any, Any, Any, Any, Any, Any, Any, Any) in module EvolutionaryModels at /Users/pechuanj/Documents/Workstation/PechuanLab/EvolutionaryModels/src/CurtisBarcodeModel.jl:410 overwritten at /Users/pechuanj/Documents/Workstation/PechuanLab/EvolutionaryModels/src/CurtisBarcodeModel.jl:480.\n",
      "  ** incremental compilation may be fatally broken for this module **\n",
      "\n",
      "WARNING: Method definition sim(Any) in module EvolutionaryModels at /Users/pechuanj/Documents/Workstation/PechuanLab/EvolutionaryModels/src/CurtisBarcodeModel.jl:502 overwritten at /Users/pechuanj/Documents/Workstation/PechuanLab/EvolutionaryModels/src/CurtisBarcodeModel.jl:543.\n",
      "  ** incremental compilation may be fatally broken for this module **\n",
      "\n",
      "WARNING: Method definition sim(Any) in module EvolutionaryModels at /Users/pechuanj/Documents/Workstation/PechuanLab/EvolutionaryModels/src/CurtisBarcodeModel.jl:543 overwritten at /Users/pechuanj/Documents/Workstation/PechuanLab/EvolutionaryModels/src/CurtisBarcodeModel.jl:571.\n",
      "  ** incremental compilation may be fatally broken for this module **\n",
      "\n",
      "WARNING: Method definition sim(Any) in module EvolutionaryModels at /Users/pechuanj/Documents/Workstation/PechuanLab/EvolutionaryModels/src/CurtisBarcodeModel.jl:571 overwritten at /Users/pechuanj/Documents/Workstation/PechuanLab/EvolutionaryModels/src/CurtisBarcodeModel.jl:587.\n",
      "  ** incremental compilation may be fatally broken for this module **\n",
      "\n"
     ]
    }
   ],
   "source": [
    "# Libraries\n",
    "using EvolutionaryModels \n",
    "using KissABC\n",
    "using Distributions\n",
    "using ClusterManagers\n",
    "using DataFrames\n",
    "using Setfield\n",
    "using StatsBase\n",
    "using CSV\n",
    "using Distances\n",
    "using Plots"
   ]
  },
  {
   "cell_type": "code",
   "execution_count": 2,
   "metadata": {},
   "outputs": [
    {
     "data": {
      "text/plain": [
       "(String3[\"T0\", \"T1\", \"T2\", \"T3\", \"T5\", \"T6\", \"T8\", \"T9\", \"T10\", \"T13\", \"T15\", \"T19\"], [16768.5043743925 13510.6235245105 2.7297208721011e6; 100760.465692346 65129.8819255222 2.01810965238213e6; … ; 4.70701824477294e6 0.0 42981.7552270609; 1.3927694087771e7 153.522272547381 37152.3899564663], 3, [16768.5043743925, 13510.6235245105, 2.7297208721011e6])"
      ]
     },
     "execution_count": 2,
     "metadata": {},
     "output_type": "execute_result"
    }
   ],
   "source": [
    "######### Prepare data to be fitted\n",
    "data = CSV.read(\"../data/Top2_Population_Counts.csv\",DataFrame;drop=[1])\n",
    "Tdata = EvolutionaryModels.TargetData(data)\n",
    "# Timepoints sampled\n",
    "TimePoint = Tdata[1]\n",
    "# Target data to fit\n",
    "tdata = Tdata[2]\n",
    "# Number of barcodes\n",
    "barcodes = Tdata[3]\n",
    "# Initial condition of each barcoded Lineage\n",
    "n0 = Tdata[4]\n",
    "Tdata"
   ]
  },
  {
   "cell_type": "code",
   "execution_count": 3,
   "metadata": {},
   "outputs": [
    {
     "data": {
      "text/plain": [
       "([0, 18, 14, 11, 18, 13, 14, 14, 14, 14, 14, 14, 14, 14, 14, 14, 15, 13, 14, 14], [500000, 500000, 500000, 500000, 500000, 500000, 500000, 400000, 250000, 250000, 250000, 125000, 250000, 250000, 250000, 250000, 250000, 250000, 250000, 250000], String3[\"T0\", \"T1\", \"T2\", \"T3\", \"T4\", \"T5\", \"T6\", \"T7\", \"T8\", \"T9\", \"T10\", \"T11\", \"T12\", \"T13\", \"T14\", \"T15\", \"T16\", \"T17\", \"T18\", \"T19\"], 20)"
      ]
     },
     "execution_count": 3,
     "metadata": {},
     "output_type": "execute_result"
    }
   ],
   "source": [
    "######### TimeSeries Parameters\n",
    "parameters = CSV.read(\"../data/Complete_MasterSizes.csv\",DataFrame;drop=[1])\n",
    "Parametres = EvolutionaryModels.Params(parameters)\n",
    "# Times between culutres\n",
    "TimeCultures = Parametres[1]\n",
    "# Cells transferred\n",
    "Ntransferes = Parametres[2]\n",
    "Passes = Parametres[3]\n",
    "# Global Parameters\n",
    "NPasses = Parametres[4]\n",
    "Parametres"
   ]
  },
  {
   "cell_type": "code",
   "execution_count": 4,
   "metadata": {},
   "outputs": [
    {
     "data": {
      "text/plain": [
       "Factored{3}(p=(Uniform{Float64}(a=0.0, b=1.0), Uniform{Float64}(a=0.0, b=1.0), Uniform{Float64}(a=0.0, b=1.0)))"
      ]
     },
     "execution_count": 4,
     "metadata": {},
     "output_type": "execute_result"
    }
   ],
   "source": [
    "# Define the prior\n",
    "prior=Factored(Uniform(0,1),# s_RG0\n",
    "              Uniform(0,1),  #s_RG1\n",
    "              Uniform(0,1))  #S_Remainder"
   ]
  },
  {
   "cell_type": "code",
   "execution_count": 5,
   "metadata": {},
   "outputs": [
    {
     "ename": "LoadError",
     "evalue": "TaskFailedException\n\n\u001b[91m    nested task error: \u001b[39mUndefVarError: NPasses not defined\n    Stacktrace:\n     [1] \u001b[0m\u001b[1mcosttest\u001b[22m\u001b[0m\u001b[1m(\u001b[22m::\u001b[0mTuple\u001b[90m{Float64, Float64, Float64}\u001b[39m\u001b[0m\u001b[1m)\u001b[22m\n    \u001b[90m   @ \u001b[39m\u001b[35mEvolutionaryModels\u001b[39m \u001b[90m~/Documents/Workstation/PechuanLab/EvolutionaryModels/src/\u001b[39m\u001b[90m\u001b[4mInferenceHelpers.jl:30\u001b[24m\u001b[39m\n     [2] \u001b[0m\u001b[1m(::KissABC.var\"#12#25\"{Int64, Factored{3}, typeof(EvolutionaryModels.costtest)})\u001b[22m\u001b[0m\u001b[1m(\u001b[22m\u001b[0m\u001b[1m)\u001b[22m\n    \u001b[90m   @ \u001b[39m\u001b[36mKissABC\u001b[39m \u001b[90m./\u001b[39m\u001b[90m\u001b[4mthreadingconstructs.jl:178\u001b[24m\u001b[39m",
     "output_type": "error",
     "traceback": [
      "TaskFailedException\n\n\u001b[91m    nested task error: \u001b[39mUndefVarError: NPasses not defined\n    Stacktrace:\n     [1] \u001b[0m\u001b[1mcosttest\u001b[22m\u001b[0m\u001b[1m(\u001b[22m::\u001b[0mTuple\u001b[90m{Float64, Float64, Float64}\u001b[39m\u001b[0m\u001b[1m)\u001b[22m\n    \u001b[90m   @ \u001b[39m\u001b[35mEvolutionaryModels\u001b[39m \u001b[90m~/Documents/Workstation/PechuanLab/EvolutionaryModels/src/\u001b[39m\u001b[90m\u001b[4mInferenceHelpers.jl:30\u001b[24m\u001b[39m\n     [2] \u001b[0m\u001b[1m(::KissABC.var\"#12#25\"{Int64, Factored{3}, typeof(EvolutionaryModels.costtest)})\u001b[22m\u001b[0m\u001b[1m(\u001b[22m\u001b[0m\u001b[1m)\u001b[22m\n    \u001b[90m   @ \u001b[39m\u001b[36mKissABC\u001b[39m \u001b[90m./\u001b[39m\u001b[90m\u001b[4mthreadingconstructs.jl:178\u001b[24m\u001b[39m",
      "",
      "Stacktrace:",
      "  [1] wait",
      "    @ ./task.jl:334 [inlined]",
      "  [2] fetch",
      "    @ ./task.jl:349 [inlined]",
      "  [3] _broadcast_getindex_evalf",
      "    @ ./broadcast.jl:670 [inlined]",
      "  [4] _broadcast_getindex",
      "    @ ./broadcast.jl:643 [inlined]",
      "  [5] getindex",
      "    @ ./broadcast.jl:597 [inlined]",
      "  [6] copy",
      "    @ ./broadcast.jl:899 [inlined]",
      "  [7] materialize",
      "    @ ./broadcast.jl:860 [inlined]",
      "  [8] smc(prior::Factored{3}, cost::typeof(EvolutionaryModels.costtest); rng::Random._GLOBAL_RNG, nparticles::Int64, M::Int64, alpha::Float64, mcmc_retrys::Int64, mcmc_tol::Float64, epstol::Int64, r_epstol::Float64, min_r_ess::Float64, max_stretch::Float64, verbose::Bool, parallel::Bool)",
      "    @ KissABC ~/.julia/packages/KissABC/lBWGp/src/smc.jl:118",
      "  [9] top-level scope",
      "    @ ./timing.jl:220 [inlined]",
      " [10] top-level scope",
      "    @ ./In[5]:0",
      " [11] eval",
      "    @ ./boot.jl:373 [inlined]",
      " [12] include_string(mapexpr::typeof(REPL.softscope), mod::Module, code::String, filename::String)",
      "    @ Base ./loading.jl:1196"
     ]
    }
   ],
   "source": [
    "@time ressmc = smc(prior, EvolutionaryModels.costtest, nparticles=20, epstol=10,verbose=true,parallel=true)"
   ]
  },
  {
   "cell_type": "code",
   "execution_count": 16,
   "metadata": {},
   "outputs": [
    {
     "ename": "LoadError",
     "evalue": "UndefVarError: Passes not defined",
     "output_type": "error",
     "traceback": [
      "UndefVarError: Passes not defined",
      "",
      "Stacktrace:",
      " [1] simtest(::Tuple{Float64, Float64, Float64}, NPasses::Int64, barcodes::Int64, TimeCultures::Vector{Int64}, Ntransferes::Vector{Int64}, n0::Vector{Float64}, TimePoint::Vector{String3})",
      "   @ EvolutionaryModels ~/Documents/Workstation/PechuanLab/EvolutionaryModels/src/CurtisBarcodeModel.jl:539",
      " [2] top-level scope",
      "   @ ./timing.jl:220 [inlined]",
      " [3] top-level scope",
      "   @ ./In[16]:0",
      " [4] eval",
      "   @ ./boot.jl:373 [inlined]",
      " [5] include_string(mapexpr::typeof(REPL.softscope), mod::Module, code::String, filename::String)",
      "   @ Base ./loading.jl:1196"
     ]
    }
   ],
   "source": [
    "@time EvolutionaryModels.simtest((0.25,0.2,0.1),NPasses,barcodes,TimeCultures,Ntransferes,n0,TimePoint) "
   ]
  },
  {
   "cell_type": "code",
   "execution_count": null,
   "metadata": {},
   "outputs": [],
   "source": []
  }
 ],
 "metadata": {
  "kernelspec": {
   "display_name": "Julia 1.7.2",
   "language": "julia",
   "name": "julia-1.7"
  },
  "language_info": {
   "file_extension": ".jl",
   "mimetype": "application/julia",
   "name": "julia",
   "version": "1.7.2"
  }
 },
 "nbformat": 4,
 "nbformat_minor": 4
}
