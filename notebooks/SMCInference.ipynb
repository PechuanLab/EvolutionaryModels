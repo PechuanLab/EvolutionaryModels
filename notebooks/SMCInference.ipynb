{
 "cells": [
  {
   "cell_type": "markdown",
   "metadata": {},
   "source": [
    "# Sequential Monte Carlo Inference of Evolutionary Parameters"
   ]
  },
  {
   "cell_type": "code",
   "execution_count": 1,
   "metadata": {},
   "outputs": [
    {
     "name": "stderr",
     "output_type": "stream",
     "text": [
      "┌ Info: Precompiling EvolutionaryModels [106980f1-6f33-4ebb-86c7-e0f0a7201877]\n",
      "└ @ Base loading.jl:1423\n",
      "WARNING: Method definition cost(Any) in module EvolutionaryModels at /Users/pechuanj/Documents/Workstation/PechuanLab/EvolutionaryModels/src/InferenceHelpers.jl:13 overwritten at /Users/pechuanj/Documents/Workstation/PechuanLab/EvolutionaryModels/src/InferenceHelpers.jl:21.\n",
      "  ** incremental compilation may be fatally broken for this module **\n",
      "\n",
      "WARNING: Method definition cost(Any) in module EvolutionaryModels at /Users/pechuanj/Documents/Workstation/PechuanLab/EvolutionaryModels/src/InferenceHelpers.jl:21 overwritten at /Users/pechuanj/Documents/Workstation/PechuanLab/EvolutionaryModels/src/InferenceHelpers.jl:39.\n",
      "  ** incremental compilation may be fatally broken for this module **\n",
      "\n",
      "WARNING: Method definition cost(Any) in module EvolutionaryModels at /Users/pechuanj/Documents/Workstation/PechuanLab/EvolutionaryModels/src/InferenceHelpers.jl:39 overwritten at /Users/pechuanj/Documents/Workstation/PechuanLab/EvolutionaryModels/src/InferenceHelpers.jl:47.\n",
      "  ** incremental compilation may be fatally broken for this module **\n",
      "\n",
      "WARNING: Method definition CulturePasss(EvolutionaryModels.Population, Any, Any) in module EvolutionaryModels at /Users/pechuanj/Documents/Workstation/PechuanLab/EvolutionaryModels/src/CurtisBarcodeModel.jl:171 overwritten at /Users/pechuanj/Documents/Workstation/PechuanLab/EvolutionaryModels/src/CurtisBarcodeModel.jl:286.\n",
      "  ** incremental compilation may be fatally broken for this module **\n",
      "\n",
      "WARNING: Method definition CulturePasss(EvolutionaryModels.Population, Any, Any) in module EvolutionaryModels at /Users/pechuanj/Documents/Workstation/PechuanLab/EvolutionaryModels/src/CurtisBarcodeModel.jl:286 overwritten at /Users/pechuanj/Documents/Workstation/PechuanLab/EvolutionaryModels/src/CurtisBarcodeModel.jl:313.\n",
      "  ** incremental compilation may be fatally broken for this module **\n",
      "\n",
      "WARNING: Method definition SimPop(Any, Any, Any, Any, Any, Any, Any, Any, Any) in module EvolutionaryModels at /Users/pechuanj/Documents/Workstation/PechuanLab/EvolutionaryModels/src/CurtisBarcodeModel.jl:410 overwritten at /Users/pechuanj/Documents/Workstation/PechuanLab/EvolutionaryModels/src/CurtisBarcodeModel.jl:480.\n",
      "  ** incremental compilation may be fatally broken for this module **\n",
      "\n",
      "WARNING: Method definition sim(Any) in module EvolutionaryModels at /Users/pechuanj/Documents/Workstation/PechuanLab/EvolutionaryModels/src/CurtisBarcodeModel.jl:502 overwritten at /Users/pechuanj/Documents/Workstation/PechuanLab/EvolutionaryModels/src/CurtisBarcodeModel.jl:543.\n",
      "  ** incremental compilation may be fatally broken for this module **\n",
      "\n",
      "WARNING: Method definition sim(Any) in module EvolutionaryModels at /Users/pechuanj/Documents/Workstation/PechuanLab/EvolutionaryModels/src/CurtisBarcodeModel.jl:543 overwritten at /Users/pechuanj/Documents/Workstation/PechuanLab/EvolutionaryModels/src/CurtisBarcodeModel.jl:571.\n",
      "  ** incremental compilation may be fatally broken for this module **\n",
      "\n",
      "WARNING: Method definition sim(Any) in module EvolutionaryModels at /Users/pechuanj/Documents/Workstation/PechuanLab/EvolutionaryModels/src/CurtisBarcodeModel.jl:571 overwritten at /Users/pechuanj/Documents/Workstation/PechuanLab/EvolutionaryModels/src/CurtisBarcodeModel.jl:587.\n",
      "  ** incremental compilation may be fatally broken for this module **\n",
      "\n"
     ]
    }
   ],
   "source": [
    "# Libraries\n",
    "using EvolutionaryModels \n",
    "using KissABC\n",
    "using Distributions\n",
    "using ClusterManagers\n",
    "using DataFrames\n",
    "using Setfield\n",
    "using StatsBase\n",
    "using CSV\n",
    "using Distances\n",
    "using Plots"
   ]
  },
  {
   "cell_type": "code",
   "execution_count": 14,
   "metadata": {},
   "outputs": [
    {
     "data": {
      "text/plain": [
       "(String3[\"T0\", \"T1\", \"T2\", \"T3\", \"T5\", \"T6\", \"T8\", \"T9\", \"T10\", \"T13\", \"T15\", \"T19\"], [16768.5043743925 13510.6235245105 2.7297208721011e6; 100760.465692346 65129.8819255222 2.01810965238213e6; … ; 4.70701824477294e6 0.0 42981.7552270609; 1.3927694087771e7 153.522272547381 37152.3899564663], 3, [16768.5043743925, 13510.6235245105, 2.7297208721011e6])"
      ]
     },
     "execution_count": 14,
     "metadata": {},
     "output_type": "execute_result"
    }
   ],
   "source": [
    "######### Prepare data to be fitted\n",
    "data = CSV.read(\"../data/Top2_Population_Counts.csv\",DataFrame;drop=[1])\n",
    "Tdata = EvolutionaryModels.TargetData(data)\n",
    "# Timepoints sampled\n",
    "TimePoint = Tdata[1]\n",
    "# Target data to fit\n",
    "tdata = Tdata[2]\n",
    "# Number of barcodes\n",
    "barcodes = Tdata[3]\n",
    "# Initial condition of each barcoded Lineage\n",
    "n0 = Tdata[4]\n",
    "Tdata"
   ]
  },
  {
   "cell_type": "code",
   "execution_count": 15,
   "metadata": {},
   "outputs": [
    {
     "data": {
      "text/plain": [
       "([0, 18, 14, 11, 18, 13, 14, 14, 14, 14, 14, 14, 14, 14, 14, 14, 15, 13, 14, 14], [500000, 500000, 500000, 500000, 500000, 500000, 500000, 400000, 250000, 250000, 250000, 125000, 250000, 250000, 250000, 250000, 250000, 250000, 250000, 250000], String3[\"T0\", \"T1\", \"T2\", \"T3\", \"T4\", \"T5\", \"T6\", \"T7\", \"T8\", \"T9\", \"T10\", \"T11\", \"T12\", \"T13\", \"T14\", \"T15\", \"T16\", \"T17\", \"T18\", \"T19\"], 20)"
      ]
     },
     "execution_count": 15,
     "metadata": {},
     "output_type": "execute_result"
    }
   ],
   "source": [
    "######### TimeSeries Parameters\n",
    "parameters = CSV.read(\"../data/Complete_MasterSizes.csv\",DataFrame;drop=[1])\n",
    "Parametres = EvolutionaryModels.Params(parameters)\n",
    "# Times between culutres\n",
    "TimeCultures = Parametres[1]\n",
    "# Cells transferred\n",
    "Ntransferes = Parametres[2]\n",
    "Passes = Parametres[3]\n",
    "# Global Parameters\n",
    "NPasses = Parametres[4]\n",
    "Parametres"
   ]
  },
  {
   "cell_type": "code",
   "execution_count": 4,
   "metadata": {},
   "outputs": [
    {
     "data": {
      "text/plain": [
       "Factored{3}(p=(Uniform{Float64}(a=0.0, b=1.0), Uniform{Float64}(a=0.0, b=1.0), Uniform{Float64}(a=0.0, b=1.0)))"
      ]
     },
     "execution_count": 4,
     "metadata": {},
     "output_type": "execute_result"
    }
   ],
   "source": [
    "# Define the prior\n",
    "prior=Factored(Uniform(0,1),# s_RG0\n",
    "              Uniform(0,1),  #s_RG1\n",
    "              Uniform(0,1))  #S_Remainder"
   ]
  },
  {
   "cell_type": "code",
   "execution_count": 12,
   "metadata": {},
   "outputs": [
    {
     "name": "stdout",
     "output_type": "stream",
     "text": [
      "(iteration, ϵ, dest, target) = (1, 3.7180378288583388e6, 18.999999999999996, 18.999999999999993)\n",
      "(iteration, ϵ, dest, target) = (2, 3.60330660897422e6, 19.999999999999996, 19.0)\n",
      "(iteration, ϵ, dest, target) = (3, 3.4921607397114807e6, 18.999999999999996, 18.999999999999996)\n",
      "(iteration, ϵ, dest, target) = (4, 2.7384528137735277e6, 19.999999999999996, 19.0)\n",
      "(iteration, ϵ, dest, target) = (5, 2.6539223400622024e6, 18.999999999999996, 18.999999999999996)\n",
      "(iteration, ϵ, dest, target) = (6, 1.7495124916472817e6, 18.999999999999996, 19.0)\n",
      "(iteration, ϵ, dest, target) = (7, 941634.8943178448, 18.0, 19.0)\n",
      "(iteration, ϵ, dest, target) = (8, 912937.865116457, 18.999999999999996, 19.0)\n",
      "(iteration, ϵ, dest, target) = (9, 772884.8540287407, 18.0, 19.0)\n",
      "(iteration, ϵ, dest, target) = (10, 749367.620286944, 19.999999999999996, 19.0)\n",
      "(iteration, ϵ, dest, target) = (11, 726933.7153352489, 18.0, 18.999999999999996)\n",
      "(iteration, ϵ, dest, target) = (12, 618269.4882254757, 18.0, 19.0)\n",
      "(iteration, ϵ, dest, target) = (13, 561109.3466033424, 18.999999999999996, 19.0)\n",
      "(iteration, ϵ, dest, target) = (14, 543805.6462480462, 18.0, 19.0)\n",
      "(iteration, ϵ, dest, target) = (15, 526968.6940509009, 19.999999999999996, 19.0)\n",
      "(iteration, ϵ, dest, target) = (16, 510671.7943508427, 18.0, 18.999999999999996)\n",
      "(iteration, ϵ, dest, target) = (17, 463357.12402190134, 19.999999999999996, 19.0)\n",
      "(iteration, ϵ, dest, target) = (18, 449064.150693367, 18.999999999999996, 18.999999999999996)\n",
      "(iteration, ϵ, dest, target) = (19, 407525.196957314, 19.999999999999996, 19.0)\n",
      "(iteration, ϵ, dest, target) = (20, 395002.27491157013, 18.999999999999996, 18.999999999999996)\n",
      "(iteration, ϵ, dest, target) = (21, 382849.71597876406, 18.999999999999996, 19.0)\n",
      "(iteration, ϵ, dest, target) = (22, 371100.92140870605, 19.999999999999996, 19.0)\n",
      "(iteration, ϵ, dest, target) = (23, 314192.69770998746, 18.999999999999996, 18.999999999999996)\n",
      "(iteration, ϵ, dest, target) = (24, 304624.140421626, 19.999999999999996, 19.0)\n",
      "(iteration, ϵ, dest, target) = (25, 295332.2662812001, 18.999999999999996, 18.999999999999996)\n",
      "(iteration, ϵ, dest, target) = (26, 196315.7324722867, 18.999999999999996, 19.0)\n",
      "(iteration, ϵ, dest, target) = (27, 178591.8520058935, 19.999999999999996, 19.0)\n",
      "(iteration, ϵ, dest, target) = (28, 173149.64342865674, 18.999999999999996, 18.999999999999996)\n",
      "(iteration, ϵ, dest, target) = (29, 168119.32751317896, 19.999999999999996, 19.0)\n",
      "(iteration, ϵ, dest, target) = (30, 163246.20897005987, 19.999999999999996, 18.999999999999996)\n",
      "(iteration, ϵ, dest, target) = (31, 158458.63436443044, 18.999999999999996, 18.999999999999996)\n",
      "(iteration, ϵ, dest, target) = (32, 153686.21688415963, 18.0, 19.0)\n",
      "(iteration, ϵ, dest, target) = (33, 149062.9374501473, 18.999999999999996, 19.0)\n",
      "(iteration, ϵ, dest, target) = (34, 144584.13549844784, 18.0, 19.0)\n",
      "(iteration, ϵ, dest, target) = (35, 114212.25976348596, 18.999999999999996, 19.0)\n",
      "(iteration, ϵ, dest, target) = (36, 110822.54148949467, 18.999999999999996, 19.0)\n",
      "(iteration, ϵ, dest, target) = (37, 87873.22754869315, 19.999999999999996, 19.0)\n",
      "(iteration, ϵ, dest, target) = (38, 85302.85005920024, 18.999999999999996, 18.999999999999996)\n",
      "(iteration, ϵ, dest, target) = (39, 82812.796866254, 17.0, 19.0)\n",
      "(iteration, ϵ, dest, target) = (40, 80398.22654949833, 19.999999999999996, 19.0)\n",
      "(iteration, ϵ, dest, target) = (41, 78062.75110770775, 18.999999999999996, 18.999999999999996)\n",
      "(iteration, ϵ, dest, target) = (42, 57682.71770948484, 19.999999999999996, 19.0)\n",
      "(iteration, ϵ, dest, target) = (43, 56056.061005379255, 19.999999999999996, 18.999999999999996)\n",
      "(iteration, ϵ, dest, target) = (44, 54486.15433991195, 18.999999999999996, 18.999999999999996)\n",
      "(iteration, ϵ, dest, target) = (45, 52961.083397627524, 19.999999999999996, 19.0)\n",
      "(iteration, ϵ, dest, target) = (46, 51483.670922289486, 18.999999999999996, 18.999999999999996)\n",
      "(iteration, ϵ, dest, target) = (47, 41494.53459469424, 19.999999999999996, 19.0)\n",
      "(iteration, ϵ, dest, target) = (48, 40379.67562956084, 18.999999999999996, 18.999999999999996)\n",
      "(iteration, ϵ, dest, target) = (49, 39299.65600708786, 18.999999999999996, 19.0)\n",
      "(iteration, ϵ, dest, target) = (50, 38232.76903716434, 18.999999999999996, 19.0)\n",
      "(iteration, ϵ, dest, target) = (51, 37219.84024570375, 19.999999999999996, 19.0)\n",
      "(iteration, ϵ, dest, target) = (52, 36219.43970876751, 18.0, 18.999999999999996)\n",
      "(iteration, ϵ, dest, target) = (53, 35218.4379443513, 19.999999999999996, 19.0)\n",
      "(iteration, ϵ, dest, target) = (54, 34248.7174850731, 18.999999999999996, 18.999999999999996)\n",
      "(iteration, ϵ, dest, target) = (55, 25793.967230741247, 18.999999999999996, 19.0)\n",
      "(iteration, ϵ, dest, target) = (56, 23768.349982307573, 19.999999999999996, 19.0)\n",
      "(iteration, ϵ, dest, target) = (57, 21931.415855384468, 18.999999999999996, 18.999999999999996)\n",
      "(iteration, ϵ, dest, target) = (58, 21376.50867120978, 19.999999999999996, 19.0)\n",
      "(iteration, ϵ, dest, target) = (59, 19763.80966720209, 18.0, 18.999999999999996)\n",
      "(iteration, ϵ, dest, target) = (60, 18406.65295845095, 18.0, 19.0)\n",
      "(iteration, ϵ, dest, target) = (61, 17970.527860290647, 19.999999999999996, 19.0)\n",
      "(iteration, ϵ, dest, target) = (62, 17543.46473305371, 18.0, 18.999999999999996)\n",
      "(iteration, ϵ, dest, target) = (63, 17129.747328542922, 19.999999999999996, 19.0)\n",
      "(iteration, ϵ, dest, target) = (64, 16721.27683219538, 18.0, 18.999999999999996)\n",
      "(iteration, ϵ, dest, target) = (65, 15551.59861966102, 19.999999999999996, 19.0)\n",
      "(iteration, ϵ, dest, target) = (66, 15198.258326291265, 19.999999999999996, 18.999999999999996)\n",
      "(iteration, ϵ, dest, target) = (67, 14855.959917089314, 18.999999999999996, 18.999999999999996)\n",
      "(iteration, ϵ, dest, target) = (68, 14524.358333174925, 18.999999999999996, 19.0)\n",
      "(iteration, ϵ, dest, target) = (69, 13551.640888625765, 18.999999999999996, 19.0)\n",
      "(iteration, ϵ, dest, target) = (70, 13257.799160584873, 18.0, 19.0)\n",
      "(iteration, ϵ, dest, target) = (71, 12405.464074248652, 18.999999999999996, 19.0)\n",
      "(iteration, ϵ, dest, target) = (72, 12148.59238220983, 18.999999999999996, 19.0)\n",
      "(iteration, ϵ, dest, target) = (73, 11899.747930547222, 17.0, 19.0)\n",
      "(iteration, ϵ, dest, target) = (74, 11664.927722177712, 18.999999999999996, 19.0)\n",
      "(iteration, ϵ, dest, target) = (75, 11433.652266969722, 18.0, 19.0)\n",
      "(iteration, ϵ, dest, target) = (76, 10766.818293568844, 18.999999999999996, 19.0)\n",
      "(iteration, ϵ, dest, target) = (77, 9336.605782324568, 18.999999999999996, 19.0)\n",
      "(iteration, ϵ, dest, target) = (78, 8238.762053776734, 19.999999999999996, 19.0)\n",
      "(iteration, ϵ, dest, target) = (79, 8115.514161213929, 19.999999999999996, 18.999999999999996)\n",
      "(iteration, ϵ, dest, target) = (80, 7992.825632803357, 18.0, 18.999999999999996)\n",
      "(iteration, ϵ, dest, target) = (81, 7386.637674901645, 19.999999999999996, 19.0)\n",
      "(iteration, ϵ, dest, target) = (82, 7284.6753070215955, 18.999999999999996, 18.999999999999996)\n",
      "(iteration, ϵ, dest, target) = (83, 6988.3471753702, 18.999999999999996, 19.0)\n",
      "(iteration, ϵ, dest, target) = (84, 6898.719676181042, 18.999999999999996, 19.0)\n",
      "(iteration, ϵ, dest, target) = (85, 6638.239756662551, 18.0, 19.0)\n",
      "(iteration, ϵ, dest, target) = (86, 6559.553114308008, 18.999999999999996, 19.0)\n",
      "(iteration, ϵ, dest, target) = (87, 6330.870059965115, 19.999999999999996, 19.0)\n",
      "(iteration, ϵ, dest, target) = (88, 6261.788720632366, 19.999999999999996, 18.999999999999996)\n",
      "(iteration, ϵ, dest, target) = (89, 6191.185309857056, 18.0, 18.999999999999996)\n",
      "(iteration, ϵ, dest, target) = (90, 6126.9351395316135, 19.999999999999996, 19.0)\n",
      "(iteration, ϵ, dest, target) = (91, 6064.149649905367, 18.999999999999996, 18.999999999999996)\n",
      "(iteration, ϵ, dest, target) = (92, 6003.326206829942, 18.999999999999996, 19.0)\n",
      "(iteration, ϵ, dest, target) = (93, 5713.309684660182, 16.0, 19.0)\n",
      "(iteration, ϵ, dest, target) = (94, 5662.281223329911, 19.999999999999996, 19.0)\n",
      "(iteration, ϵ, dest, target) = (95, 5612.84740141621, 18.0, 18.999999999999996)\n",
      "(iteration, ϵ, dest, target) = (96, 5563.803435882786, 18.999999999999996, 19.0)\n",
      "(iteration, ϵ, dest, target) = (97, 5515.863231284046, 18.999999999999996, 19.0)\n",
      "(iteration, ϵ, dest, target) = (98, 5468.4248639564885, 18.0, 19.0)\n",
      "(iteration, ϵ, dest, target) = (99, 5422.468945607917, 18.0, 19.0)\n",
      "(iteration, ϵ, dest, target) = (100, 5377.949149707738, 18.999999999999996, 19.0)\n",
      "(iteration, ϵ, dest, target) = (101, 5334.82059742944, 18.999999999999996, 19.0)\n",
      "(iteration, ϵ, dest, target) = (102, 5295.415374492572, 18.999999999999996, 19.0)\n",
      "(iteration, ϵ, dest, target) = (103, 5258.182555763233, 18.999999999999996, 19.0)\n",
      "(iteration, ϵ, dest, target) = (104, 5146.49968551808, 18.999999999999996, 19.0)\n",
      "(iteration, ϵ, dest, target) = (105, 5113.434940746571, 18.999999999999996, 19.0)\n",
      "(iteration, ϵ, dest, target) = (106, 5081.403469249171, 18.999999999999996, 19.0)\n",
      "(iteration, ϵ, dest, target) = (107, 5050.5731049062515, 19.999999999999996, 19.0)\n",
      "(iteration, ϵ, dest, target) = (108, 5019.659532991219, 19.999999999999996, 18.999999999999996)\n",
      "(iteration, ϵ, dest, target) = (109, 4987.574529762353, 18.999999999999996, 18.999999999999996)\n",
      "(iteration, ϵ, dest, target) = (110, 4894.327489128462, 18.0, 19.0)\n",
      "(iteration, ϵ, dest, target) = (111, 4746.408559505699, 18.999999999999996, 19.0)\n",
      "(iteration, ϵ, dest, target) = (112, 4671.524601384174, 19.999999999999996, 19.0)\n",
      "(iteration, ϵ, dest, target) = (113, 4648.903405701631, 18.999999999999996, 18.999999999999996)\n",
      "(iteration, ϵ, dest, target) = (114, 4583.160555749238, 18.999999999999996, 19.0)\n",
      "(iteration, ϵ, dest, target) = (115, 4431.29262421684, 18.999999999999996, 19.0)\n",
      "(iteration, ϵ, dest, target) = (116, 4419.164282462516, 19.999999999999996, 19.0)\n",
      "(iteration, ϵ, dest, target) = (117, 4383.916289239014, 19.999999999999996, 18.999999999999996)\n",
      "(iteration, ϵ, dest, target) = (118, 4372.257812185368, 18.999999999999996, 18.999999999999996)\n",
      "(iteration, ϵ, dest, target) = (119, 4360.963662539648, 17.0, 19.0)\n",
      "(iteration, ϵ, dest, target) = (120, 4350.022455070357, 17.0, 19.0)\n",
      "(iteration, ϵ, dest, target) = (121, 4310.336395861947, 18.999999999999996, 19.0)\n",
      "(iteration, ϵ, dest, target) = (122, 4303.639373370527, 19.999999999999996, 19.0)\n"
     ]
    },
    {
     "name": "stdout",
     "output_type": "stream",
     "text": [
      "(iteration, ϵ, dest, target) = (123, 4294.467880720441, 18.0, 18.999999999999996)\n",
      "(iteration, ϵ, dest, target) = (124, 4285.492099740197, 19.999999999999996, 19.0)\n",
      "(iteration, ϵ, dest, target) = (125, 4276.78706221587, 18.999999999999996, 18.999999999999996)\n",
      "(iteration, ϵ, dest, target) = (126, 4268.675091259752, 19.999999999999996, 19.0)\n",
      "(iteration, ϵ, dest, target) = (127, 4261.051108074273, 18.999999999999996, 18.999999999999996)\n",
      "(iteration, ϵ, dest, target) = (128, 4253.665374363341, 18.999999999999996, 19.0)\n",
      "(iteration, ϵ, dest, target) = (129, 4246.510444830875, 18.999999999999996, 19.0)\n",
      "(iteration, ϵ, dest, target) = (130, 4239.579106846299, 17.0, 19.0)\n",
      "(iteration, ϵ, dest, target) = (131, 4232.86437317374, 18.999999999999996, 19.0)\n",
      "(iteration, ϵ, dest, target) = (132, 4225.560995080386, 19.999999999999996, 19.0)\n",
      "(iteration, ϵ, dest, target) = (133, 4218.48584755245, 18.0, 18.999999999999996)\n",
      "(iteration, ϵ, dest, target) = (134, 4212.072510497531, 18.999999999999996, 19.0)\n",
      "(iteration, ϵ, dest, target) = (135, 4205.79070682547, 18.0, 19.0)\n",
      "(iteration, ϵ, dest, target) = (136, 4199.705209518161, 18.999999999999996, 19.0)\n",
      "(iteration, ϵ, dest, target) = (137, 4182.0192329687925, 18.999999999999996, 19.0)\n",
      "(iteration, ϵ, dest, target) = (138, 4176.676594219504, 18.999999999999996, 19.0)\n",
      "(iteration, ϵ, dest, target) = (139, 4171.50857070821, 18.999999999999996, 19.0)\n",
      "(iteration, ϵ, dest, target) = (140, 4166.502047931644, 18.0, 19.0)\n",
      "(iteration, ϵ, dest, target) = (141, 4161.651978991845, 17.0, 19.0)\n",
      "(iteration, ϵ, dest, target) = (142, 4156.1332542772625, 15.000000000000002, 19.0)\n",
      "(iteration, ϵ, dest, target) = (143, 4150.910450487586, 18.0, 19.0)\n",
      "(iteration, ϵ, dest, target) = (144, 4137.326752353505, 18.999999999999996, 19.0)\n",
      "(iteration, ϵ, dest, target) = (145, 4126.313393711847, 18.999999999999996, 19.0)\n",
      "(iteration, ϵ, dest, target) = (146, 4116.441768511135, 18.999999999999996, 19.0)\n",
      "(iteration, ϵ, dest, target) = (147, 4106.471533879595, 18.0, 19.0)\n",
      "(iteration, ϵ, dest, target) = (148, 4103.436374312098, 19.999999999999996, 19.0)\n",
      "(iteration, ϵ, dest, target) = (149, 4099.799029820325, 18.999999999999996, 18.999999999999996)\n",
      "(iteration, ϵ, dest, target) = (150, 4096.306648937193, 18.0, 19.0)\n",
      "(iteration, ϵ, dest, target) = (151, 4093.050543873599, 18.999999999999996, 19.0)\n",
      "(iteration, ϵ, dest, target) = (152, 4083.3333098381418, 19.999999999999996, 19.0)\n",
      "(iteration, ϵ, dest, target) = (153, 4080.975133985776, 18.999999999999996, 18.999999999999996)\n",
      "(iteration, ϵ, dest, target) = (154, 4078.528978844209, 18.999999999999996, 19.0)\n",
      "(iteration, ϵ, dest, target) = (155, 4076.1592660508163, 19.999999999999996, 19.0)\n",
      "(iteration, ϵ, dest, target) = (156, 4073.8636067822167, 17.0, 18.999999999999996)\n",
      "(iteration, ϵ, dest, target) = (157, 4071.6957005452564, 18.999999999999996, 19.0)\n",
      "(iteration, ϵ, dest, target) = (158, 4069.0701466913133, 18.999999999999996, 19.0)\n",
      "(iteration, ϵ, dest, target) = (159, 4066.521630174157, 18.999999999999996, 19.0)\n",
      "(iteration, ϵ, dest, target) = (160, 4057.9324146780295, 19.999999999999996, 19.0)\n",
      "(iteration, ϵ, dest, target) = (161, 4055.3310801316356, 17.0, 18.999999999999996)\n",
      "(iteration, ϵ, dest, target) = (162, 4053.0687778271945, 19.999999999999996, 19.0)\n",
      "(iteration, ϵ, dest, target) = (163, 4050.9130548871003, 18.999999999999996, 18.999999999999996)\n",
      "(iteration, ϵ, dest, target) = (164, 4044.0090603281824, 19.999999999999996, 19.0)\n",
      "(iteration, ϵ, dest, target) = (165, 4041.843401159646, 18.999999999999996, 18.999999999999996)\n",
      "(iteration, ϵ, dest, target) = (166, 4039.7454188401266, 19.999999999999996, 19.0)\n",
      "(iteration, ϵ, dest, target) = (167, 4037.8452777971106, 18.999999999999996, 18.999999999999996)\n",
      "(iteration, ϵ, dest, target) = (168, 4035.9261682539463, 18.999999999999996, 19.0)\n",
      "(iteration, ϵ, dest, target) = (169, 4034.072287861365, 16.0, 19.0)\n",
      "(iteration, ϵ, dest, target) = (170, 4032.2763412310524, 18.0, 19.0)\n",
      "(iteration, ϵ, dest, target) = (171, 4030.536517932937, 18.999999999999996, 19.0)\n",
      "(iteration, ϵ, dest, target) = (172, 4025.471628667645, 19.999999999999996, 19.0)\n",
      "(iteration, ϵ, dest, target) = (173, 4023.944452637136, 18.0, 18.999999999999996)\n",
      "(iteration, ϵ, dest, target) = (174, 4022.4925656058567, 18.999999999999996, 19.0)\n",
      "(iteration, ϵ, dest, target) = (175, 4021.0052569485515, 18.0, 19.0)\n",
      "(iteration, ϵ, dest, target) = (176, 4019.516991697531, 19.999999999999996, 19.0)\n",
      "(iteration, ϵ, dest, target) = (177, 4010.37053293116, 19.999999999999996, 18.999999999999996)\n",
      "(iteration, ϵ, dest, target) = (178, 4009.55666013648, 19.999999999999996, 18.999999999999996)\n",
      "401.713750 seconds (16.28 M allocations: 150.158 GiB, 0.52% gc time, 0.87% compilation time)\n"
     ]
    },
    {
     "data": {
      "text/plain": [
       "(P = Particles{Float64, 20}[0.225 ± 0.0043, 0.0723 ± 0.051, 0.12 ± 0.0079], W = 0.05, ϵ = 4009.55666013648)"
      ]
     },
     "execution_count": 12,
     "metadata": {},
     "output_type": "execute_result"
    }
   ],
   "source": [
    "@time ressmc = smc(prior,EvolutionaryModels.costtest, nparticles=20, epstol=10,verbose=true,parallel=true)"
   ]
  },
  {
   "cell_type": "code",
   "execution_count": 13,
   "metadata": {},
   "outputs": [
    {
     "name": "stdout",
     "output_type": "stream",
     "text": [
      "  0.150055 seconds (979 allocations: 51.735 MiB)\n"
     ]
    },
    {
     "data": {
      "text/html": [
       "<div class=\"data-frame\"><p>12 rows × 4 columns</p><table class=\"data-frame\"><thead><tr><th></th><th>RG0</th><th>RG1</th><th>Remainder</th><th>TimePoint</th></tr><tr><th></th><th title=\"Float64\">Float64</th><th title=\"Float64\">Float64</th><th title=\"Float64\">Float64</th><th title=\"String3\">String3</th></tr></thead><tbody><tr><th>1</th><td>16768.5</td><td>13510.6</td><td>2.72972e6</td><td>T0</td></tr><tr><th>2</th><td>2.7655e5</td><td>90208.7</td><td>2.99885e6</td><td>T1</td></tr><tr><th>3</th><td>1.37036e6</td><td>2.21748e5</td><td>1.8061e6</td><td>T2</td></tr><tr><th>4</th><td>3.16078e6</td><td>2.99962e5</td><td>7.96433e5</td><td>T3</td></tr><tr><th>5</th><td>1.222e7</td><td>2.47946e5</td><td>29534.0</td><td>T5</td></tr><tr><th>6</th><td>1.61882e7</td><td>1.60923e5</td><td>4588.38</td><td>T6</td></tr><tr><th>7</th><td>1.31601e7</td><td>32452.5</td><td>37.524</td><td>T8</td></tr><tr><th>8</th><td>8.25119e6</td><td>10689.8</td><td>0.0</td><td>T9</td></tr><tr><th>9</th><td>8.27364e6</td><td>4839.34</td><td>0.0</td><td>T10</td></tr><tr><th>10</th><td>8.27102e6</td><td>594.633</td><td>0.0</td><td>T13</td></tr><tr><th>11</th><td>8.27185e6</td><td>114.882</td><td>0.0</td><td>T15</td></tr><tr><th>12</th><td>8.27153e6</td><td>0.0</td><td>0.0</td><td>T19</td></tr></tbody></table></div>"
      ],
      "text/latex": [
       "\\begin{tabular}{r|cccc}\n",
       "\t& RG0 & RG1 & Remainder & TimePoint\\\\\n",
       "\t\\hline\n",
       "\t& Float64 & Float64 & Float64 & String3\\\\\n",
       "\t\\hline\n",
       "\t1 & 16768.5 & 13510.6 & 2.72972e6 & T0 \\\\\n",
       "\t2 & 2.7655e5 & 90208.7 & 2.99885e6 & T1 \\\\\n",
       "\t3 & 1.37036e6 & 2.21748e5 & 1.8061e6 & T2 \\\\\n",
       "\t4 & 3.16078e6 & 2.99962e5 & 7.96433e5 & T3 \\\\\n",
       "\t5 & 1.222e7 & 2.47946e5 & 29534.0 & T5 \\\\\n",
       "\t6 & 1.61882e7 & 1.60923e5 & 4588.38 & T6 \\\\\n",
       "\t7 & 1.31601e7 & 32452.5 & 37.524 & T8 \\\\\n",
       "\t8 & 8.25119e6 & 10689.8 & 0.0 & T9 \\\\\n",
       "\t9 & 8.27364e6 & 4839.34 & 0.0 & T10 \\\\\n",
       "\t10 & 8.27102e6 & 594.633 & 0.0 & T13 \\\\\n",
       "\t11 & 8.27185e6 & 114.882 & 0.0 & T15 \\\\\n",
       "\t12 & 8.27153e6 & 0.0 & 0.0 & T19 \\\\\n",
       "\\end{tabular}\n"
      ],
      "text/plain": [
       "\u001b[1m12×4 DataFrame\u001b[0m\n",
       "\u001b[1m Row \u001b[0m│\u001b[1m RG0           \u001b[0m\u001b[1m RG1           \u001b[0m\u001b[1m Remainder     \u001b[0m\u001b[1m TimePoint \u001b[0m\n",
       "\u001b[1m     \u001b[0m│\u001b[90m Float64       \u001b[0m\u001b[90m Float64       \u001b[0m\u001b[90m Float64       \u001b[0m\u001b[90m String3   \u001b[0m\n",
       "─────┼────────────────────────────────────────────────────────\n",
       "   1 │ 16768.5        13510.6            2.72972e6  T0\n",
       "   2 │     2.7655e5   90208.7            2.99885e6  T1\n",
       "   3 │     1.37036e6      2.21748e5      1.8061e6   T2\n",
       "   4 │     3.16078e6      2.99962e5      7.96433e5  T3\n",
       "   5 │     1.222e7        2.47946e5  29534.0        T5\n",
       "   6 │     1.61882e7      1.60923e5   4588.38       T6\n",
       "   7 │     1.31601e7  32452.5           37.524      T8\n",
       "   8 │     8.25119e6  10689.8            0.0        T9\n",
       "   9 │     8.27364e6   4839.34           0.0        T10\n",
       "  10 │     8.27102e6    594.633          0.0        T13\n",
       "  11 │     8.27185e6    114.882          0.0        T15\n",
       "  12 │     8.27153e6      0.0            0.0        T19"
      ]
     },
     "execution_count": 13,
     "metadata": {},
     "output_type": "execute_result"
    }
   ],
   "source": [
    "@time EvolutionaryModels.simtest((0.25,0.2,0.1),NPasses,barcodes,TimeCultures,Ntransferes,n0,TimePoint,Passes,data) "
   ]
  }
 ],
 "metadata": {
  "kernelspec": {
   "display_name": "Julia 1.7.2",
   "language": "julia",
   "name": "julia-1.7"
  },
  "language_info": {
   "file_extension": ".jl",
   "mimetype": "application/julia",
   "name": "julia",
   "version": "1.7.2"
  }
 },
 "nbformat": 4,
 "nbformat_minor": 4
}
