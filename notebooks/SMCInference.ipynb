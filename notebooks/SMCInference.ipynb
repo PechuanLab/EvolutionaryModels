{
 "cells": [
  {
   "cell_type": "markdown",
   "metadata": {},
   "source": [
    "# Sequential Monte Carlo Inference of Evolutionary Parameters"
   ]
  },
  {
   "cell_type": "code",
   "execution_count": 1,
   "metadata": {},
   "outputs": [
    {
     "name": "stderr",
     "output_type": "stream",
     "text": [
      "┌ Info: Precompiling EvolutionaryModels [106980f1-6f33-4ebb-86c7-e0f0a7201877]\n",
      "└ @ Base loading.jl:1423\n",
      "WARNING: Method definition cost(Any) in module EvolutionaryModels at /Users/pechuanj/Documents/Workstation/PechuanLab/EvolutionaryModels/src/InferenceHelpers.jl:13 overwritten at /Users/pechuanj/Documents/Workstation/PechuanLab/EvolutionaryModels/src/InferenceHelpers.jl:21.\n",
      "  ** incremental compilation may be fatally broken for this module **\n",
      "\n",
      "WARNING: Method definition cost(Any) in module EvolutionaryModels at /Users/pechuanj/Documents/Workstation/PechuanLab/EvolutionaryModels/src/InferenceHelpers.jl:21 overwritten at /Users/pechuanj/Documents/Workstation/PechuanLab/EvolutionaryModels/src/InferenceHelpers.jl:29.\n",
      "  ** incremental compilation may be fatally broken for this module **\n",
      "\n",
      "WARNING: Method definition cost(Any) in module EvolutionaryModels at /Users/pechuanj/Documents/Workstation/PechuanLab/EvolutionaryModels/src/InferenceHelpers.jl:29 overwritten at /Users/pechuanj/Documents/Workstation/PechuanLab/EvolutionaryModels/src/InferenceHelpers.jl:39.\n",
      "  ** incremental compilation may be fatally broken for this module **\n",
      "\n",
      "WARNING: Method definition cost(Any) in module EvolutionaryModels at /Users/pechuanj/Documents/Workstation/PechuanLab/EvolutionaryModels/src/InferenceHelpers.jl:39 overwritten at /Users/pechuanj/Documents/Workstation/PechuanLab/EvolutionaryModels/src/InferenceHelpers.jl:47.\n",
      "  ** incremental compilation may be fatally broken for this module **\n",
      "\n",
      "WARNING: Method definition CulturePasss(EvolutionaryModels.Population, Any, Any) in module EvolutionaryModels at /Users/pechuanj/Documents/Workstation/PechuanLab/EvolutionaryModels/src/CurtisBarcodeModel.jl:171 overwritten at /Users/pechuanj/Documents/Workstation/PechuanLab/EvolutionaryModels/src/CurtisBarcodeModel.jl:286.\n",
      "  ** incremental compilation may be fatally broken for this module **\n",
      "\n",
      "WARNING: Method definition CulturePasss(EvolutionaryModels.Population, Any, Any) in module EvolutionaryModels at /Users/pechuanj/Documents/Workstation/PechuanLab/EvolutionaryModels/src/CurtisBarcodeModel.jl:286 overwritten at /Users/pechuanj/Documents/Workstation/PechuanLab/EvolutionaryModels/src/CurtisBarcodeModel.jl:313.\n",
      "  ** incremental compilation may be fatally broken for this module **\n",
      "\n",
      "WARNING: Method definition SimPop(Any, Any, Any, Any, Any, Any, Any, Any, Any) in module EvolutionaryModels at /Users/pechuanj/Documents/Workstation/PechuanLab/EvolutionaryModels/src/CurtisBarcodeModel.jl:410 overwritten at /Users/pechuanj/Documents/Workstation/PechuanLab/EvolutionaryModels/src/CurtisBarcodeModel.jl:480.\n",
      "  ** incremental compilation may be fatally broken for this module **\n",
      "\n",
      "WARNING: Method definition sim(Any) in module EvolutionaryModels at /Users/pechuanj/Documents/Workstation/PechuanLab/EvolutionaryModels/src/CurtisBarcodeModel.jl:502 overwritten at /Users/pechuanj/Documents/Workstation/PechuanLab/EvolutionaryModels/src/CurtisBarcodeModel.jl:522.\n",
      "  ** incremental compilation may be fatally broken for this module **\n",
      "\n",
      "WARNING: Method definition sim(Any) in module EvolutionaryModels at /Users/pechuanj/Documents/Workstation/PechuanLab/EvolutionaryModels/src/CurtisBarcodeModel.jl:522 overwritten at /Users/pechuanj/Documents/Workstation/PechuanLab/EvolutionaryModels/src/CurtisBarcodeModel.jl:543.\n",
      "  ** incremental compilation may be fatally broken for this module **\n",
      "\n",
      "WARNING: Method definition sim(Any) in module EvolutionaryModels at /Users/pechuanj/Documents/Workstation/PechuanLab/EvolutionaryModels/src/CurtisBarcodeModel.jl:543 overwritten at /Users/pechuanj/Documents/Workstation/PechuanLab/EvolutionaryModels/src/CurtisBarcodeModel.jl:571.\n",
      "  ** incremental compilation may be fatally broken for this module **\n",
      "\n",
      "WARNING: Method definition sim(Any) in module EvolutionaryModels at /Users/pechuanj/Documents/Workstation/PechuanLab/EvolutionaryModels/src/CurtisBarcodeModel.jl:571 overwritten at /Users/pechuanj/Documents/Workstation/PechuanLab/EvolutionaryModels/src/CurtisBarcodeModel.jl:587.\n",
      "  ** incremental compilation may be fatally broken for this module **\n",
      "\n"
     ]
    }
   ],
   "source": [
    "# Libraries\n",
    "using EvolutionaryModels \n",
    "using KissABC\n",
    "using Distributions\n",
    "using ClusterManagers\n",
    "using DataFrames\n",
    "using Setfield\n",
    "using StatsBase\n",
    "using CSV\n",
    "using Distances\n",
    "using Plots"
   ]
  },
  {
   "cell_type": "code",
   "execution_count": 2,
   "metadata": {},
   "outputs": [
    {
     "data": {
      "text/plain": [
       "(String3[\"T0\", \"T1\", \"T2\", \"T3\", \"T5\", \"T6\", \"T8\", \"T9\", \"T10\", \"T13\", \"T15\", \"T19\"], [16768.5043743925 13510.6235245105 2.7297208721011e6; 100760.465692346 65129.8819255222 2.01810965238213e6; … ; 4.70701824477294e6 0.0 42981.7552270609; 1.3927694087771e7 153.522272547381 37152.3899564663], 3, [16768.5043743925, 13510.6235245105, 2.7297208721011e6])"
      ]
     },
     "execution_count": 2,
     "metadata": {},
     "output_type": "execute_result"
    }
   ],
   "source": [
    "######### Prepare data to be fitted\n",
    "data = CSV.read(\"../data/Top2_Population_Counts.csv\",DataFrame;drop=[1])\n",
    "Tdata = EvolutionaryModels.TargetData(data)\n",
    "# Timepoints sampled\n",
    "TimePoint = Tdata[1]\n",
    "# Target data to fit\n",
    "tdata = Tdata[2]\n",
    "# Number of barcodes\n",
    "barcodes = Tdata[3]\n",
    "# Initial condition of each barcoded Lineage\n",
    "n0 = Tdata[4]\n",
    "Tdata"
   ]
  },
  {
   "cell_type": "code",
   "execution_count": 3,
   "metadata": {},
   "outputs": [
    {
     "data": {
      "text/plain": [
       "([0, 18, 14, 11, 18, 13, 14, 14, 14, 14, 14, 14, 14, 14, 14, 14, 15, 13, 14, 14], [500000, 500000, 500000, 500000, 500000, 500000, 500000, 400000, 250000, 250000, 250000, 125000, 250000, 250000, 250000, 250000, 250000, 250000, 250000, 250000], String3[\"T0\", \"T1\", \"T2\", \"T3\", \"T4\", \"T5\", \"T6\", \"T7\", \"T8\", \"T9\", \"T10\", \"T11\", \"T12\", \"T13\", \"T14\", \"T15\", \"T16\", \"T17\", \"T18\", \"T19\"], 20)"
      ]
     },
     "execution_count": 3,
     "metadata": {},
     "output_type": "execute_result"
    }
   ],
   "source": [
    "######### TimeSeries Parameters\n",
    "parameters = CSV.read(\"../data/Complete_MasterSizes.csv\",DataFrame;drop=[1])\n",
    "Parametres = EvolutionaryModels.Params(parameters)\n",
    "# Times between culutres\n",
    "TimeCultures = Parametres[1]\n",
    "# Cells transferred\n",
    "Ntransferes = Parametres[2]\n",
    "Passes = Parametres[3]\n",
    "# Global Parameters\n",
    "NPasses = Parametres[4]\n",
    "Parametres"
   ]
  },
  {
   "cell_type": "code",
   "execution_count": 4,
   "metadata": {},
   "outputs": [
    {
     "data": {
      "text/plain": [
       "Factored{3}(p=(Uniform{Float64}(a=0.0, b=1.0), Uniform{Float64}(a=0.0, b=1.0), Uniform{Float64}(a=0.0, b=1.0)))"
      ]
     },
     "execution_count": 4,
     "metadata": {},
     "output_type": "execute_result"
    }
   ],
   "source": [
    "# Define the prior\n",
    "prior=Factored(Uniform(0,1),# s_RG0\n",
    "              Uniform(0,1),  #s_RG1\n",
    "              Uniform(0,1))  #S_Remainder"
   ]
  },
  {
   "cell_type": "code",
   "execution_count": 5,
   "metadata": {},
   "outputs": [
    {
     "ename": "LoadError",
     "evalue": "TaskFailedException\n\n\u001b[91m    nested task error: \u001b[39mBoundsError: attempt to access Tuple{Float64, Float64, Float64} at index [4]\n    Stacktrace:\n     [1] \u001b[0m\u001b[1mindexed_iterate\u001b[22m\n    \u001b[90m   @ \u001b[39m\u001b[90m./\u001b[39m\u001b[90m\u001b[4mtuple.jl:89\u001b[24m\u001b[39m\u001b[90m [inlined]\u001b[39m\n     [2] \u001b[0m\u001b[1mcost\u001b[22m\u001b[0m\u001b[1m(\u001b[22m::\u001b[0mTuple\u001b[90m{Float64, Float64, Float64}\u001b[39m\u001b[0m\u001b[1m)\u001b[22m\n    \u001b[90m   @ \u001b[39m\u001b[35mEvolutionaryModels\u001b[39m \u001b[90m~/Documents/Workstation/PechuanLab/EvolutionaryModels/src/\u001b[39m\u001b[90m\u001b[4mInferenceHelpers.jl:48\u001b[24m\u001b[39m\n     [3] \u001b[0m\u001b[1m(::KissABC.var\"#12#25\"{Int64, Factored{3}, typeof(EvolutionaryModels.cost)})\u001b[22m\u001b[0m\u001b[1m(\u001b[22m\u001b[0m\u001b[1m)\u001b[22m\n    \u001b[90m   @ \u001b[39m\u001b[36mKissABC\u001b[39m \u001b[90m./\u001b[39m\u001b[90m\u001b[4mthreadingconstructs.jl:178\u001b[24m\u001b[39m",
     "output_type": "error",
     "traceback": [
      "TaskFailedException\n\n\u001b[91m    nested task error: \u001b[39mBoundsError: attempt to access Tuple{Float64, Float64, Float64} at index [4]\n    Stacktrace:\n     [1] \u001b[0m\u001b[1mindexed_iterate\u001b[22m\n    \u001b[90m   @ \u001b[39m\u001b[90m./\u001b[39m\u001b[90m\u001b[4mtuple.jl:89\u001b[24m\u001b[39m\u001b[90m [inlined]\u001b[39m\n     [2] \u001b[0m\u001b[1mcost\u001b[22m\u001b[0m\u001b[1m(\u001b[22m::\u001b[0mTuple\u001b[90m{Float64, Float64, Float64}\u001b[39m\u001b[0m\u001b[1m)\u001b[22m\n    \u001b[90m   @ \u001b[39m\u001b[35mEvolutionaryModels\u001b[39m \u001b[90m~/Documents/Workstation/PechuanLab/EvolutionaryModels/src/\u001b[39m\u001b[90m\u001b[4mInferenceHelpers.jl:48\u001b[24m\u001b[39m\n     [3] \u001b[0m\u001b[1m(::KissABC.var\"#12#25\"{Int64, Factored{3}, typeof(EvolutionaryModels.cost)})\u001b[22m\u001b[0m\u001b[1m(\u001b[22m\u001b[0m\u001b[1m)\u001b[22m\n    \u001b[90m   @ \u001b[39m\u001b[36mKissABC\u001b[39m \u001b[90m./\u001b[39m\u001b[90m\u001b[4mthreadingconstructs.jl:178\u001b[24m\u001b[39m",
      "",
      "Stacktrace:",
      "  [1] wait",
      "    @ ./task.jl:334 [inlined]",
      "  [2] fetch",
      "    @ ./task.jl:349 [inlined]",
      "  [3] _broadcast_getindex_evalf",
      "    @ ./broadcast.jl:670 [inlined]",
      "  [4] _broadcast_getindex",
      "    @ ./broadcast.jl:643 [inlined]",
      "  [5] getindex",
      "    @ ./broadcast.jl:597 [inlined]",
      "  [6] copy",
      "    @ ./broadcast.jl:899 [inlined]",
      "  [7] materialize",
      "    @ ./broadcast.jl:860 [inlined]",
      "  [8] smc(prior::Factored{3}, cost::typeof(EvolutionaryModels.cost); rng::Random._GLOBAL_RNG, nparticles::Int64, M::Int64, alpha::Float64, mcmc_retrys::Int64, mcmc_tol::Float64, epstol::Int64, r_epstol::Float64, min_r_ess::Float64, max_stretch::Float64, verbose::Bool, parallel::Bool)",
      "    @ KissABC ~/.julia/packages/KissABC/lBWGp/src/smc.jl:118",
      "  [9] top-level scope",
      "    @ ./timing.jl:220 [inlined]",
      " [10] top-level scope",
      "    @ ./In[5]:0",
      " [11] eval",
      "    @ ./boot.jl:373 [inlined]",
      " [12] include_string(mapexpr::typeof(REPL.softscope), mod::Module, code::String, filename::String)",
      "    @ Base ./loading.jl:1196"
     ]
    }
   ],
   "source": [
    "@time ressmc = smc(prior, EvolutionaryModels.costtest, nparticles=20, epstol=10,verbose=true,parallel=true)"
   ]
  },
  {
   "cell_type": "code",
   "execution_count": 6,
   "metadata": {},
   "outputs": [
    {
     "ename": "LoadError",
     "evalue": "BoundsError: attempt to access Tuple{Float64, Float64, Float64} at index [4]",
     "output_type": "error",
     "traceback": [
      "BoundsError: attempt to access Tuple{Float64, Float64, Float64} at index [4]",
      "",
      "Stacktrace:",
      " [1] indexed_iterate",
      "   @ ./tuple.jl:89 [inlined]",
      " [2] sim(::Tuple{Float64, Float64, Float64})",
      "   @ EvolutionaryModels ~/Documents/Workstation/PechuanLab/EvolutionaryModels/src/CurtisBarcodeModel.jl:589",
      " [3] top-level scope",
      "   @ ./timing.jl:220 [inlined]",
      " [4] top-level scope",
      "   @ ./In[6]:0",
      " [5] eval",
      "   @ ./boot.jl:373 [inlined]",
      " [6] include_string(mapexpr::typeof(REPL.softscope), mod::Module, code::String, filename::String)",
      "   @ Base ./loading.jl:1196"
     ]
    }
   ],
   "source": [
    "@time EvolutionaryModels.sim((0.25,0.2,0.1)) "
   ]
  },
  {
   "cell_type": "code",
   "execution_count": 7,
   "metadata": {},
   "outputs": [
    {
     "ename": "LoadError",
     "evalue": "UndefVarError: sim not defined",
     "output_type": "error",
     "traceback": [
      "UndefVarError: sim not defined",
      "",
      "Stacktrace:",
      " [1] top-level scope",
      "   @ ./timing.jl:220 [inlined]",
      " [2] top-level scope",
      "   @ ./In[7]:0",
      " [3] eval",
      "   @ ./boot.jl:373 [inlined]",
      " [4] include_string(mapexpr::typeof(REPL.softscope), mod::Module, code::String, filename::String)",
      "   @ Base ./loading.jl:1196"
     ]
    }
   ],
   "source": [
    "@time sim((0.25,0.2,0.1)) "
   ]
  },
  {
   "cell_type": "code",
   "execution_count": 9,
   "metadata": {},
   "outputs": [
    {
     "data": {
      "text/html": [
       "<div class=\"data-frame\"><p>12 rows × 4 columns</p><table class=\"data-frame\"><thead><tr><th></th><th>RG0</th><th>RG1</th><th>Remainder</th><th>TimePoint</th></tr><tr><th></th><th title=\"Float64\">Float64</th><th title=\"Float64\">Float64</th><th title=\"Float64\">Float64</th><th title=\"String3\">String3</th></tr></thead><tbody><tr><th>1</th><td>16768.5</td><td>13510.6</td><td>2.72972e6</td><td>T0</td></tr><tr><th>2</th><td>2.82311e5</td><td>90593.3</td><td>2.99068e6</td><td>T1</td></tr><tr><th>3</th><td>1.38049e6</td><td>2.23823e5</td><td>1.79708e6</td><td>T2</td></tr><tr><th>4</th><td>3.1734e6</td><td>2.94783e5</td><td>7.95803e5</td><td>T3</td></tr><tr><th>5</th><td>1.22258e7</td><td>2.43703e5</td><td>29857.3</td><td>T5</td></tr><tr><th>6</th><td>1.61964e7</td><td>1.6309e5</td><td>4843.43</td><td>T6</td></tr><tr><th>7</th><td>1.31915e7</td><td>32264.5</td><td>34.9406</td><td>T8</td></tr><tr><th>8</th><td>8.25461e6</td><td>10632.3</td><td>0.0</td><td>T9</td></tr><tr><th>9</th><td>8.22608e6</td><td>5490.6</td><td>0.0</td><td>T10</td></tr><tr><th>10</th><td>8.2849e6</td><td>926.133</td><td>0.0</td><td>T13</td></tr><tr><th>11</th><td>8.2605e6</td><td>131.226</td><td>0.0</td><td>T15</td></tr><tr><th>12</th><td>8.27901e6</td><td>0.0</td><td>0.0</td><td>T19</td></tr></tbody></table></div>"
      ],
      "text/latex": [
       "\\begin{tabular}{r|cccc}\n",
       "\t& RG0 & RG1 & Remainder & TimePoint\\\\\n",
       "\t\\hline\n",
       "\t& Float64 & Float64 & Float64 & String3\\\\\n",
       "\t\\hline\n",
       "\t1 & 16768.5 & 13510.6 & 2.72972e6 & T0 \\\\\n",
       "\t2 & 2.82311e5 & 90593.3 & 2.99068e6 & T1 \\\\\n",
       "\t3 & 1.38049e6 & 2.23823e5 & 1.79708e6 & T2 \\\\\n",
       "\t4 & 3.1734e6 & 2.94783e5 & 7.95803e5 & T3 \\\\\n",
       "\t5 & 1.22258e7 & 2.43703e5 & 29857.3 & T5 \\\\\n",
       "\t6 & 1.61964e7 & 1.6309e5 & 4843.43 & T6 \\\\\n",
       "\t7 & 1.31915e7 & 32264.5 & 34.9406 & T8 \\\\\n",
       "\t8 & 8.25461e6 & 10632.3 & 0.0 & T9 \\\\\n",
       "\t9 & 8.22608e6 & 5490.6 & 0.0 & T10 \\\\\n",
       "\t10 & 8.2849e6 & 926.133 & 0.0 & T13 \\\\\n",
       "\t11 & 8.2605e6 & 131.226 & 0.0 & T15 \\\\\n",
       "\t12 & 8.27901e6 & 0.0 & 0.0 & T19 \\\\\n",
       "\\end{tabular}\n"
      ],
      "text/plain": [
       "\u001b[1m12×4 DataFrame\u001b[0m\n",
       "\u001b[1m Row \u001b[0m│\u001b[1m RG0           \u001b[0m\u001b[1m RG1           \u001b[0m\u001b[1m Remainder     \u001b[0m\u001b[1m TimePoint \u001b[0m\n",
       "\u001b[1m     \u001b[0m│\u001b[90m Float64       \u001b[0m\u001b[90m Float64       \u001b[0m\u001b[90m Float64       \u001b[0m\u001b[90m String3   \u001b[0m\n",
       "─────┼────────────────────────────────────────────────────────\n",
       "   1 │ 16768.5        13510.6            2.72972e6  T0\n",
       "   2 │     2.82311e5  90593.3            2.99068e6  T1\n",
       "   3 │     1.38049e6      2.23823e5      1.79708e6  T2\n",
       "   4 │     3.1734e6       2.94783e5      7.95803e5  T3\n",
       "   5 │     1.22258e7      2.43703e5  29857.3        T5\n",
       "   6 │     1.61964e7      1.6309e5    4843.43       T6\n",
       "   7 │     1.31915e7  32264.5           34.9406     T8\n",
       "   8 │     8.25461e6  10632.3            0.0        T9\n",
       "   9 │     8.22608e6   5490.6            0.0        T10\n",
       "  10 │     8.2849e6     926.133          0.0        T13\n",
       "  11 │     8.2605e6     131.226          0.0        T15\n",
       "  12 │     8.27901e6      0.0            0.0        T19"
      ]
     },
     "execution_count": 9,
     "metadata": {},
     "output_type": "execute_result"
    }
   ],
   "source": [
    "  # Fix\n",
    "  # Selective coefficients     \n",
    "  s_coef = [0.25,0.2,0.1]\n",
    "  # Things we will record\n",
    "  BarCode_mat = zeros(Float64,NPasses,barcodes)\n",
    "  # Initial Population\n",
    "  poblacio = EvolutionaryModels.InitPop(barcodes,s_coef,n0)\n",
    "  # Culture cycles\n",
    "  for i in 1:NPasses\n",
    "      TimeCulture = TimeCultures[i]\n",
    "      Ntransfer = Ntransferes[i]\n",
    "      poblacio =  EvolutionaryModels.CulturePasss(poblacio::Population,TimeCulture)\n",
    "      N_vec =  EvolutionaryModels.unwrapper(poblacio,\"N\")\n",
    "      BarCode_mat[i,:] = N_vec\n",
    "      poblacio =  EvolutionaryModels.Transfer(poblacio::Population,Ntransfer::Int,barcodes::Int)\n",
    "  end\n",
    "  subset_BarcodeMat =  EvolutionaryModels.measurement_Sample(BarCode_mat,TimePoint,Passes,data)"
   ]
  },
  {
   "cell_type": "code",
   "execution_count": 17,
   "metadata": {},
   "outputs": [
    {
     "data": {
      "text/plain": [
       "sim (generic function with 1 method)"
      ]
     },
     "execution_count": 17,
     "metadata": {},
     "output_type": "execute_result"
    }
   ],
   "source": [
    "function sim((s_RG0,s_RG1,S_Remainder)) \n",
    "  # Fix\n",
    "  # Selective coefficients     \n",
    "  s_coef = [s_RG0,s_RG1,S_Remainder]\n",
    "  # Things we will record\n",
    "  BarCode_mat = zeros(Float64,NPasses,barcodes)\n",
    "  # Initial Population\n",
    "  poblacio = EvolutionaryModels.InitPop(barcodes,s_coef,n0)\n",
    "  # Culture cycles\n",
    "  for i in 1:NPasses\n",
    "      TimeCulture = TimeCultures[i]\n",
    "      Ntransfer = Ntransferes[i]\n",
    "      poblacio =  EvolutionaryModels.CulturePasss(poblacio::Population,TimeCulture)\n",
    "      N_vec =  EvolutionaryModels.unwrapper(poblacio,\"N\")\n",
    "      BarCode_mat[i,:] = N_vec\n",
    "      poblacio =  EvolutionaryModels.Transfer(poblacio::Population,Ntransfer::Int,barcodes::Int)\n",
    "  end\n",
    "  subset_BarcodeMat =  EvolutionaryModels.measurement_Sample(BarCode_mat,TimePoint,Passes,data)\n",
    "  return subset_BarcodeMat\n",
    "end\n"
   ]
  },
  {
   "cell_type": "code",
   "execution_count": 9,
   "metadata": {},
   "outputs": [
    {
     "data": {
      "text/plain": [
       "Population(EvolutionaryModels.Lineages[EvolutionaryModels.Lineage(1, 0.25, 16768.5043743925), EvolutionaryModels.Lineage(2, 0.2, 13510.6235245105), EvolutionaryModels.Lineage(3, 0.1, 2.7297208721011e6)])"
      ]
     },
     "execution_count": 9,
     "metadata": {},
     "output_type": "execute_result"
    }
   ],
   "source": [
    "  # Fix\n",
    "  # Selective coefficients     \n",
    "  s_coef = [0.25,0.2,0.1]\n",
    "  # Things we will record\n",
    "  BarCode_mat = zeros(Float64,NPasses,barcodes)\n",
    "  # Initial Population\n",
    "  poblacio = EvolutionaryModels.InitPop(barcodes,s_coef,n0)"
   ]
  },
  {
   "cell_type": "code",
   "execution_count": 10,
   "metadata": {},
   "outputs": [
    {
     "data": {
      "text/plain": [
       "1"
      ]
     },
     "execution_count": 10,
     "metadata": {},
     "output_type": "execute_result"
    }
   ],
   "source": [
    "poblacio.clones[1].barcode"
   ]
  },
  {
   "cell_type": "code",
   "execution_count": 11,
   "metadata": {},
   "outputs": [],
   "source": [
    "############### Top Types\n",
    "abstract type Lineages end\n",
    "abstract type Populations end\n",
    "\n",
    "############### Lineage Types\n",
    "# Lineage without mutation\n",
    "mutable struct Lineage <: Lineages\n",
    "    barcode::Int\n",
    "    fitness::Float64\n",
    "    N::Float64\n",
    "end\n"
   ]
  },
  {
   "cell_type": "code",
   "execution_count": 12,
   "metadata": {},
   "outputs": [
    {
     "data": {
      "text/plain": [
       "3"
      ]
     },
     "execution_count": 12,
     "metadata": {},
     "output_type": "execute_result"
    }
   ],
   "source": [
    "barcodes"
   ]
  },
  {
   "cell_type": "code",
   "execution_count": null,
   "metadata": {},
   "outputs": [],
   "source": []
  }
 ],
 "metadata": {
  "kernelspec": {
   "display_name": "Julia 1.7.2",
   "language": "julia",
   "name": "julia-1.7"
  },
  "language_info": {
   "file_extension": ".jl",
   "mimetype": "application/julia",
   "name": "julia",
   "version": "1.7.2"
  }
 },
 "nbformat": 4,
 "nbformat_minor": 4
}
