{
 "cells": [
  {
   "cell_type": "markdown",
   "metadata": {},
   "source": [
    "# Sequential Monte Carlo Inference of Evolutionary Parameters"
   ]
  },
  {
   "cell_type": "code",
   "execution_count": 15,
   "metadata": {},
   "outputs": [],
   "source": [
    "# Libraries\n",
    "using EvolutionaryModels \n",
    "using KissABC\n",
    "using Distributions\n",
    "using ClusterManagers\n",
    "using DataFrames\n",
    "using Setfield\n",
    "using StatsBase\n",
    "using CSV\n",
    "using Distances\n",
    "using Plots"
   ]
  },
  {
   "cell_type": "code",
   "execution_count": 2,
   "metadata": {},
   "outputs": [
    {
     "data": {
      "text/plain": [
       "(String3[\"T0\", \"T1\", \"T2\", \"T3\", \"T5\", \"T6\", \"T8\", \"T9\", \"T10\", \"T13\", \"T15\", \"T19\"], [16768.5043743925 13510.6235245105 2.7297208721011e6; 100760.465692346 65129.8819255222 2.01810965238213e6; … ; 4.70701824477294e6 0.0 42981.7552270609; 1.3927694087771e7 153.522272547381 37152.3899564663], 3, [16768.5043743925, 13510.6235245105, 2.7297208721011e6])"
      ]
     },
     "execution_count": 2,
     "metadata": {},
     "output_type": "execute_result"
    }
   ],
   "source": [
    "######### Prepare data to be fitted\n",
    "data = CSV.read(\"../data/Top2_Population_Counts.csv\",DataFrame;drop=[1])\n",
    "Tdata = EvolutionaryModels.TargetData(data)\n",
    "# Timepoints sampled\n",
    "TimePoint = Tdata[1]\n",
    "# Target data to fit\n",
    "tdata = Tdata[2]\n",
    "# Number of barcodes\n",
    "barcodes = Tdata[3]\n",
    "# Initial condition of each barcoded Lineage\n",
    "n0 = Tdata[4]\n",
    "Tdata"
   ]
  },
  {
   "cell_type": "code",
   "execution_count": 16,
   "metadata": {},
   "outputs": [
    {
     "data": {
      "text/plain": [
       "([0, 18, 14, 11, 18, 13, 14, 14, 14, 14, 14, 14, 14, 14, 14, 14, 15, 13, 14, 14], [500000, 500000, 500000, 500000, 500000, 500000, 500000, 400000, 250000, 250000, 250000, 125000, 250000, 250000, 250000, 250000, 250000, 250000, 250000, 250000], String3[\"T0\", \"T1\", \"T2\", \"T3\", \"T4\", \"T5\", \"T6\", \"T7\", \"T8\", \"T9\", \"T10\", \"T11\", \"T12\", \"T13\", \"T14\", \"T15\", \"T16\", \"T17\", \"T18\", \"T19\"], 20)"
      ]
     },
     "execution_count": 16,
     "metadata": {},
     "output_type": "execute_result"
    }
   ],
   "source": [
    "######### TimeSeries Parameters\n",
    "parameters = CSV.read(\"../data/Complete_MasterSizes.csv\",DataFrame;drop=[1])\n",
    "Parametres = EvolutionaryModels.Params(parameters)\n",
    "# Times between culutres\n",
    "TimeCultures = Parametres[1]\n",
    "# Cells transferred\n",
    "Ntransferes = Parametres[2]\n",
    "Passes = Parametres[3]\n",
    "# Global Parameters\n",
    "NPasses = Parametres[4]\n",
    "Parametres"
   ]
  },
  {
   "cell_type": "code",
   "execution_count": 4,
   "metadata": {},
   "outputs": [
    {
     "data": {
      "text/plain": [
       "Factored{3}(p=(Uniform{Float64}(a=0.0, b=1.0), Uniform{Float64}(a=0.0, b=1.0), Uniform{Float64}(a=0.0, b=1.0)))"
      ]
     },
     "execution_count": 4,
     "metadata": {},
     "output_type": "execute_result"
    }
   ],
   "source": [
    "# Define the prior\n",
    "prior=Factored(Uniform(0,1),# s_RG0\n",
    "              Uniform(0,1),  #s_RG1\n",
    "              Uniform(0,1))  #S_Remainder"
   ]
  },
  {
   "cell_type": "code",
   "execution_count": 17,
   "metadata": {},
   "outputs": [
    {
     "data": {
      "text/plain": [
       "20"
      ]
     },
     "execution_count": 17,
     "metadata": {},
     "output_type": "execute_result"
    }
   ],
   "source": [
    "NPasses"
   ]
  },
  {
   "cell_type": "code",
   "execution_count": 5,
   "metadata": {},
   "outputs": [
    {
     "ename": "LoadError",
     "evalue": "TaskFailedException\n\n\u001b[91m    nested task error: \u001b[39mUndefVarError: NPasses not defined\n    Stacktrace:\n     [1] \u001b[0m\u001b[1msimtest\u001b[22m\u001b[0m\u001b[1m(\u001b[22m::\u001b[0mTuple\u001b[90m{Float64, Float64, Float64}\u001b[39m\u001b[0m\u001b[1m)\u001b[22m\n    \u001b[90m   @ \u001b[39m\u001b[35mEvolutionaryModels\u001b[39m \u001b[90m~/Documents/Workstation/PechuanLab/EvolutionaryModels/src/\u001b[39m\u001b[90m\u001b[4mCurtisBarcodeModel.jl:527\u001b[24m\u001b[39m\n     [2] \u001b[0m\u001b[1mcosttest\u001b[22m\u001b[0m\u001b[1m(\u001b[22m::\u001b[0mTuple\u001b[90m{Float64, Float64, Float64}\u001b[39m\u001b[0m\u001b[1m)\u001b[22m\n    \u001b[90m   @ \u001b[39m\u001b[35mEvolutionaryModels\u001b[39m \u001b[90m~/Documents/Workstation/PechuanLab/EvolutionaryModels/src/\u001b[39m\u001b[90m\u001b[4mInferenceHelpers.jl:30\u001b[24m\u001b[39m\n     [3] \u001b[0m\u001b[1m(::KissABC.var\"#12#25\"{Int64, Factored{3}, typeof(EvolutionaryModels.costtest)})\u001b[22m\u001b[0m\u001b[1m(\u001b[22m\u001b[0m\u001b[1m)\u001b[22m\n    \u001b[90m   @ \u001b[39m\u001b[36mKissABC\u001b[39m \u001b[90m./\u001b[39m\u001b[90m\u001b[4mthreadingconstructs.jl:178\u001b[24m\u001b[39m",
     "output_type": "error",
     "traceback": [
      "TaskFailedException\n\n\u001b[91m    nested task error: \u001b[39mUndefVarError: NPasses not defined\n    Stacktrace:\n     [1] \u001b[0m\u001b[1msimtest\u001b[22m\u001b[0m\u001b[1m(\u001b[22m::\u001b[0mTuple\u001b[90m{Float64, Float64, Float64}\u001b[39m\u001b[0m\u001b[1m)\u001b[22m\n    \u001b[90m   @ \u001b[39m\u001b[35mEvolutionaryModels\u001b[39m \u001b[90m~/Documents/Workstation/PechuanLab/EvolutionaryModels/src/\u001b[39m\u001b[90m\u001b[4mCurtisBarcodeModel.jl:527\u001b[24m\u001b[39m\n     [2] \u001b[0m\u001b[1mcosttest\u001b[22m\u001b[0m\u001b[1m(\u001b[22m::\u001b[0mTuple\u001b[90m{Float64, Float64, Float64}\u001b[39m\u001b[0m\u001b[1m)\u001b[22m\n    \u001b[90m   @ \u001b[39m\u001b[35mEvolutionaryModels\u001b[39m \u001b[90m~/Documents/Workstation/PechuanLab/EvolutionaryModels/src/\u001b[39m\u001b[90m\u001b[4mInferenceHelpers.jl:30\u001b[24m\u001b[39m\n     [3] \u001b[0m\u001b[1m(::KissABC.var\"#12#25\"{Int64, Factored{3}, typeof(EvolutionaryModels.costtest)})\u001b[22m\u001b[0m\u001b[1m(\u001b[22m\u001b[0m\u001b[1m)\u001b[22m\n    \u001b[90m   @ \u001b[39m\u001b[36mKissABC\u001b[39m \u001b[90m./\u001b[39m\u001b[90m\u001b[4mthreadingconstructs.jl:178\u001b[24m\u001b[39m",
      "",
      "Stacktrace:",
      "  [1] wait",
      "    @ ./task.jl:334 [inlined]",
      "  [2] fetch",
      "    @ ./task.jl:349 [inlined]",
      "  [3] _broadcast_getindex_evalf",
      "    @ ./broadcast.jl:670 [inlined]",
      "  [4] _broadcast_getindex",
      "    @ ./broadcast.jl:643 [inlined]",
      "  [5] getindex",
      "    @ ./broadcast.jl:597 [inlined]",
      "  [6] copy",
      "    @ ./broadcast.jl:899 [inlined]",
      "  [7] materialize",
      "    @ ./broadcast.jl:860 [inlined]",
      "  [8] smc(prior::Factored{3}, cost::typeof(EvolutionaryModels.costtest); rng::Random._GLOBAL_RNG, nparticles::Int64, M::Int64, alpha::Float64, mcmc_retrys::Int64, mcmc_tol::Float64, epstol::Int64, r_epstol::Float64, min_r_ess::Float64, max_stretch::Float64, verbose::Bool, parallel::Bool)",
      "    @ KissABC ~/.julia/packages/KissABC/lBWGp/src/smc.jl:118",
      "  [9] top-level scope",
      "    @ ./timing.jl:220 [inlined]",
      " [10] top-level scope",
      "    @ ./In[5]:0",
      " [11] eval",
      "    @ ./boot.jl:373 [inlined]",
      " [12] include_string(mapexpr::typeof(REPL.softscope), mod::Module, code::String, filename::String)",
      "    @ Base ./loading.jl:1196"
     ]
    }
   ],
   "source": [
    "@time ressmc = smc(prior, EvolutionaryModels.costtest, nparticles=20, epstol=10,verbose=true,parallel=true)"
   ]
  },
  {
   "cell_type": "code",
   "execution_count": 18,
   "metadata": {},
   "outputs": [
    {
     "ename": "LoadError",
     "evalue": "UndefVarError: NPasses not defined",
     "output_type": "error",
     "traceback": [
      "UndefVarError: NPasses not defined",
      "",
      "Stacktrace:",
      " [1] simtest(::Tuple{Float64, Float64, Float64})",
      "   @ EvolutionaryModels ~/Documents/Workstation/PechuanLab/EvolutionaryModels/src/CurtisBarcodeModel.jl:527",
      " [2] top-level scope",
      "   @ ./timing.jl:220 [inlined]",
      " [3] top-level scope",
      "   @ ./In[18]:0",
      " [4] eval",
      "   @ ./boot.jl:373 [inlined]",
      " [5] include_string(mapexpr::typeof(REPL.softscope), mod::Module, code::String, filename::String)",
      "   @ Base ./loading.jl:1196"
     ]
    }
   ],
   "source": [
    "@time EvolutionaryModels.simtest((0.25,0.2,0.1)) "
   ]
  },
  {
   "cell_type": "code",
   "execution_count": 7,
   "metadata": {},
   "outputs": [
    {
     "ename": "LoadError",
     "evalue": "UndefVarError: sim not defined",
     "output_type": "error",
     "traceback": [
      "UndefVarError: sim not defined",
      "",
      "Stacktrace:",
      " [1] top-level scope",
      "   @ ./timing.jl:220 [inlined]",
      " [2] top-level scope",
      "   @ ./In[7]:0",
      " [3] eval",
      "   @ ./boot.jl:373 [inlined]",
      " [4] include_string(mapexpr::typeof(REPL.softscope), mod::Module, code::String, filename::String)",
      "   @ Base ./loading.jl:1196"
     ]
    }
   ],
   "source": [
    "@time sim((0.25,0.2,0.1)) "
   ]
  },
  {
   "cell_type": "code",
   "execution_count": 21,
   "metadata": {},
   "outputs": [
    {
     "name": "stdout",
     "output_type": "stream",
     "text": [
      "  0.258656 seconds (160.72 k allocations: 61.357 MiB, 7.86% gc time, 24.49% compilation time)\n"
     ]
    },
    {
     "data": {
      "text/html": [
       "<div class=\"data-frame\"><p>12 rows × 4 columns</p><table class=\"data-frame\"><thead><tr><th></th><th>RG0</th><th>RG1</th><th>Remainder</th><th>TimePoint</th></tr><tr><th></th><th title=\"Float64\">Float64</th><th title=\"Float64\">Float64</th><th title=\"Float64\">Float64</th><th title=\"String3\">String3</th></tr></thead><tbody><tr><th>1</th><td>16768.5</td><td>13510.6</td><td>2.72972e6</td><td>T0</td></tr><tr><th>2</th><td>2.80187e5</td><td>88967.5</td><td>2.99098e6</td><td>T1</td></tr><tr><th>3</th><td>1.37747e6</td><td>214727.0</td><td>1.80922e6</td><td>T2</td></tr><tr><th>4</th><td>3.17015e6</td><td>2.83655e5</td><td>7.98907e5</td><td>T3</td></tr><tr><th>5</th><td>1.22319e7</td><td>2.3512e5</td><td>30051.5</td><td>T5</td></tr><tr><th>6</th><td>1.61737e7</td><td>1.538e5</td><td>4934.19</td><td>T6</td></tr><tr><th>7</th><td>1.31392e7</td><td>32607.3</td><td>57.3312</td><td>T8</td></tr><tr><th>8</th><td>8.23852e6</td><td>10078.8</td><td>0.0</td><td>T9</td></tr><tr><th>9</th><td>8.29546e6</td><td>4684.77</td><td>0.0</td><td>T10</td></tr><tr><th>10</th><td>8.27744e6</td><td>702.663</td><td>0.0</td><td>T13</td></tr><tr><th>11</th><td>8.29497e6</td><td>79.5647</td><td>0.0</td><td>T15</td></tr><tr><th>12</th><td>8.28806e6</td><td>0.0</td><td>0.0</td><td>T19</td></tr></tbody></table></div>"
      ],
      "text/latex": [
       "\\begin{tabular}{r|cccc}\n",
       "\t& RG0 & RG1 & Remainder & TimePoint\\\\\n",
       "\t\\hline\n",
       "\t& Float64 & Float64 & Float64 & String3\\\\\n",
       "\t\\hline\n",
       "\t1 & 16768.5 & 13510.6 & 2.72972e6 & T0 \\\\\n",
       "\t2 & 2.80187e5 & 88967.5 & 2.99098e6 & T1 \\\\\n",
       "\t3 & 1.37747e6 & 214727.0 & 1.80922e6 & T2 \\\\\n",
       "\t4 & 3.17015e6 & 2.83655e5 & 7.98907e5 & T3 \\\\\n",
       "\t5 & 1.22319e7 & 2.3512e5 & 30051.5 & T5 \\\\\n",
       "\t6 & 1.61737e7 & 1.538e5 & 4934.19 & T6 \\\\\n",
       "\t7 & 1.31392e7 & 32607.3 & 57.3312 & T8 \\\\\n",
       "\t8 & 8.23852e6 & 10078.8 & 0.0 & T9 \\\\\n",
       "\t9 & 8.29546e6 & 4684.77 & 0.0 & T10 \\\\\n",
       "\t10 & 8.27744e6 & 702.663 & 0.0 & T13 \\\\\n",
       "\t11 & 8.29497e6 & 79.5647 & 0.0 & T15 \\\\\n",
       "\t12 & 8.28806e6 & 0.0 & 0.0 & T19 \\\\\n",
       "\\end{tabular}\n"
      ],
      "text/plain": [
       "\u001b[1m12×4 DataFrame\u001b[0m\n",
       "\u001b[1m Row \u001b[0m│\u001b[1m RG0           \u001b[0m\u001b[1m RG1            \u001b[0m\u001b[1m Remainder     \u001b[0m\u001b[1m TimePoint \u001b[0m\n",
       "\u001b[1m     \u001b[0m│\u001b[90m Float64       \u001b[0m\u001b[90m Float64        \u001b[0m\u001b[90m Float64       \u001b[0m\u001b[90m String3   \u001b[0m\n",
       "─────┼─────────────────────────────────────────────────────────\n",
       "   1 │ 16768.5         13510.6            2.72972e6  T0\n",
       "   2 │     2.80187e5   88967.5            2.99098e6  T1\n",
       "   3 │     1.37747e6  214727.0            1.80922e6  T2\n",
       "   4 │     3.17015e6       2.83655e5      7.98907e5  T3\n",
       "   5 │     1.22319e7       2.3512e5   30051.5        T5\n",
       "   6 │     1.61737e7       1.538e5     4934.19       T6\n",
       "   7 │     1.31392e7   32607.3           57.3312     T8\n",
       "   8 │     8.23852e6   10078.8            0.0        T9\n",
       "   9 │     8.29546e6    4684.77           0.0        T10\n",
       "  10 │     8.27744e6     702.663          0.0        T13\n",
       "  11 │     8.29497e6      79.5647         0.0        T15\n",
       "  12 │     8.28806e6       0.0            0.0        T19"
      ]
     },
     "execution_count": 21,
     "metadata": {},
     "output_type": "execute_result"
    }
   ],
   "source": [
    "@time simtest((0.25,0.2,0.1),NPasses,barcodes,TimeCultures,Ntransferes)"
   ]
  },
  {
   "cell_type": "code",
   "execution_count": 20,
   "metadata": {},
   "outputs": [
    {
     "data": {
      "text/plain": [
       "simtest (generic function with 1 method)"
      ]
     },
     "execution_count": 20,
     "metadata": {},
     "output_type": "execute_result"
    }
   ],
   "source": [
    "function simtest((s_RG0,s_RG1,S_Remainder),NPasses,barcodes,TimeCultures,Ntransferes) \n",
    "  # Fix\n",
    "  # Selective coefficients     \n",
    "  s_coef = [s_RG0,s_RG1,S_Remainder]\n",
    "  # Things we will record\n",
    "  BarCode_mat = zeros(Float64,NPasses,barcodes)\n",
    "  # Initial Population\n",
    "  poblacio = EvolutionaryModels.InitPop(barcodes,s_coef,n0)\n",
    "  # Culture cycles\n",
    "  for i in 1:NPasses\n",
    "      TimeCulture = TimeCultures[i]\n",
    "      Ntransfer = Ntransferes[i]\n",
    "      poblacio =  EvolutionaryModels.CulturePasss(poblacio::Population,TimeCulture)\n",
    "      N_vec =  EvolutionaryModels.unwrapper(poblacio,\"N\")\n",
    "      BarCode_mat[i,:] = N_vec\n",
    "      poblacio =  EvolutionaryModels.Transfer(poblacio::Population,Ntransfer::Int,barcodes::Int)\n",
    "  end\n",
    "  subset_BarcodeMat =  EvolutionaryModels.measurement_Sample(BarCode_mat,TimePoint,Passes,data)\n",
    "  return subset_BarcodeMat\n",
    "end"
   ]
  },
  {
   "cell_type": "code",
   "execution_count": 9,
   "metadata": {},
   "outputs": [
    {
     "data": {
      "text/plain": [
       "sim (generic function with 1 method)"
      ]
     },
     "execution_count": 9,
     "metadata": {},
     "output_type": "execute_result"
    }
   ],
   "source": [
    "function sim((s_RG0,s_RG1,S_Remainder)) \n",
    "\n",
    "end\n"
   ]
  },
  {
   "cell_type": "code",
   "execution_count": 10,
   "metadata": {},
   "outputs": [
    {
     "data": {
      "text/plain": [
       "Population(EvolutionaryModels.Lineages[EvolutionaryModels.Lineage(1, 0.25, 16768.5043743925), EvolutionaryModels.Lineage(2, 0.2, 13510.6235245105), EvolutionaryModels.Lineage(3, 0.1, 2.7297208721011e6)])"
      ]
     },
     "execution_count": 10,
     "metadata": {},
     "output_type": "execute_result"
    }
   ],
   "source": [
    "  # Fix\n",
    "  # Selective coefficients     \n",
    "  s_coef = [0.25,0.2,0.1]\n",
    "  # Things we will record\n",
    "  BarCode_mat = zeros(Float64,NPasses,barcodes)\n",
    "  # Initial Population\n",
    "  poblacio = EvolutionaryModels.InitPop(barcodes,s_coef,n0)"
   ]
  },
  {
   "cell_type": "code",
   "execution_count": 11,
   "metadata": {},
   "outputs": [
    {
     "data": {
      "text/plain": [
       "1"
      ]
     },
     "execution_count": 11,
     "metadata": {},
     "output_type": "execute_result"
    }
   ],
   "source": [
    "poblacio.clones[1].barcode"
   ]
  },
  {
   "cell_type": "code",
   "execution_count": 12,
   "metadata": {},
   "outputs": [],
   "source": [
    "############### Top Types\n",
    "abstract type Lineages end\n",
    "abstract type Populations end\n",
    "\n",
    "############### Lineage Types\n",
    "# Lineage without mutation\n",
    "mutable struct Lineage <: Lineages\n",
    "    barcode::Int\n",
    "    fitness::Float64\n",
    "    N::Float64\n",
    "end\n"
   ]
  },
  {
   "cell_type": "code",
   "execution_count": 13,
   "metadata": {},
   "outputs": [
    {
     "data": {
      "text/plain": [
       "3"
      ]
     },
     "execution_count": 13,
     "metadata": {},
     "output_type": "execute_result"
    }
   ],
   "source": [
    "barcodes"
   ]
  },
  {
   "cell_type": "code",
   "execution_count": null,
   "metadata": {},
   "outputs": [],
   "source": []
  }
 ],
 "metadata": {
  "kernelspec": {
   "display_name": "Julia 1.7.2",
   "language": "julia",
   "name": "julia-1.7"
  },
  "language_info": {
   "file_extension": ".jl",
   "mimetype": "application/julia",
   "name": "julia",
   "version": "1.7.2"
  }
 },
 "nbformat": 4,
 "nbformat_minor": 4
}
